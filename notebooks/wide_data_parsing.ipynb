{
 "cells": [
  {
   "cell_type": "code",
   "execution_count": 1,
   "metadata": {},
   "outputs": [],
   "source": [
    "import codecs\n",
    "import io\n",
    "import textfsm\n",
    "import terminaltables"
   ]
  },
  {
   "cell_type": "code",
   "execution_count": 2,
   "metadata": {},
   "outputs": [],
   "source": [
    "TEMPLATE_FILE_NAME = \"./templates/extra_simple_wide_data.template\"\n",
    "DATA_FILE_NAME = \"./data/wide_data.txt\""
   ]
  },
  {
   "cell_type": "code",
   "execution_count": 3,
   "metadata": {},
   "outputs": [],
   "source": [
    "def get_text_from_file(file_name):\n",
    "    with codecs.open(file_name, \"r\", \"utf-8\") as input_file:\n",
    "        return input_file.read()        "
   ]
  },
  {
   "cell_type": "code",
   "execution_count": 4,
   "metadata": {},
   "outputs": [],
   "source": [
    "def main():\n",
    "    data_to_be_parsed = get_text_from_file(DATA_FILE_NAME)\n",
    "    template_text = get_text_from_file(TEMPLATE_FILE_NAME)\n",
    "    \n",
    "    template_io = io.StringIO(template_text)\n",
    "    template_io.seek(0)\n",
    "    \n",
    "    parser = textfsm.TextFSM(template_io)\n",
    "    parsing_result = parser.ParseText(data_to_be_parsed)\n",
    "    print(\"parsing_result:\\n{}\".format(parsing_result))\n",
    "    #table_to_be_printed = terminaltables.AsciiTable(\n",
    "    #    [parser.header] + \n",
    "    #    parsing_result\n",
    "    #)\n",
    "    \n",
    "    #print(\"Parsed Data:\\n{}\".format(table_to_be_printed.table))"
   ]
  },
  {
   "cell_type": "code",
   "execution_count": 5,
   "metadata": {},
   "outputs": [
    {
     "name": "stdout",
     "output_type": "stream",
     "text": [
      "parsing_result:\n",
      "[['CreatedTime                   Digest                                                                   LastUpdateTime                Name            Signed'], ['----------------------------  -----------------------------------------------------------------------  ----------------------------  --------------  --------'], ['2019-05-14T18:41:39.2457232Z  sha256:ea0bab570e25466c82cb30f92a368f081c20df8e92e9d1959fe0b6343a085b61  2019-05-14T18:41:39.2457232Z  4.0.0           False'], ['2019-03-28T14:36:03.9804895Z  sha256:b3f495e2bc31a013d28a40cf1def3ae08a2c9794f1d34f99c19de4f6ac5e4322  2019-05-14T17:21:51.9709045Z  4.0.0-SNAPSHOT  False'], ['2019-05-15T09:51:40.3062441Z  sha256:ea0bab570e25466c82cb30f92a368f081c20df8e92e9d1959fe0b6343a085b61  2019-05-15T09:51:40.3062441Z  4.0.1           False'], ['2019-05-15T15:41:15.9180704Z  sha256:ea0bab570e25466c82cb30f92a368f081c20df8e92e9d1959fe0b6343a085b61  2019-05-15T15:41:15.9180704Z  4.0.2           False']]\n"
     ]
    }
   ],
   "source": [
    "main()"
   ]
  },
  {
   "cell_type": "code",
   "execution_count": null,
   "metadata": {},
   "outputs": [],
   "source": []
  },
  {
   "cell_type": "code",
   "execution_count": null,
   "metadata": {},
   "outputs": [],
   "source": []
  },
  {
   "cell_type": "code",
   "execution_count": null,
   "metadata": {},
   "outputs": [],
   "source": []
  }
 ],
 "metadata": {
  "kernelspec": {
   "display_name": "Python 3",
   "language": "python",
   "name": "python3"
  },
  "language_info": {
   "codemirror_mode": {
    "name": "ipython",
    "version": 3
   },
   "file_extension": ".py",
   "mimetype": "text/x-python",
   "name": "python",
   "nbconvert_exporter": "python",
   "pygments_lexer": "ipython3",
   "version": "3.7.3"
  }
 },
 "nbformat": 4,
 "nbformat_minor": 2
}
